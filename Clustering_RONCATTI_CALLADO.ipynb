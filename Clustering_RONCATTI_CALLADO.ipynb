{
 "cells": [
  {
   "cell_type": "markdown",
   "metadata": {},
   "source": [
    "# III. CLUSTERING OF HANDWRITTEN DIGITS\n",
    "\n"
   ]
  },
  {
   "cell_type": "markdown",
   "metadata": {},
   "source": [
    "# A. K-means clustering"
   ]
  },
  {
   "cell_type": "markdown",
   "metadata": {},
   "source": [
    "K-means clustering is a technique of unsupervisioned learning that is often used in Machine Learning Models. The ideia is to group different points by creating clusters. These clusters refers to collection of points aggregated together because of a given similarity. Then, we iteratively move the center of these clusters according to a specific metric to minimize the total variance between clusters."
   ]
  },
  {
   "cell_type": "code",
   "execution_count": 110,
   "metadata": {},
   "outputs": [],
   "source": [
    "# Importing libraries\n",
    "\n",
    "import pandas as pd\n",
    "import numpy as np\n",
    "import math\n",
    "import matplotlib\n",
    "import matplotlib.pyplot as plt \n",
    "import matplotlib.mlab as mlab\n",
    "import sklearn\n",
    "from sklearn.cluster import AgglomerativeClustering\n",
    "from scipy.cluster.hierarchy import dendrogram\n",
    "from scipy.cluster.hierarchy import linkage\n",
    "import scipy"
   ]
  },
  {
   "cell_type": "markdown",
   "metadata": {},
   "source": [
    "- Each column with headers from 0 to 63 represents a pixel (in total 64 pixels) with values of intensity between 0 and 16. \n",
    "- The LAST column with header 64 represents the label of our digit (a number from 0 to 9)"
   ]
  },
  {
   "cell_type": "code",
   "execution_count": 111,
   "metadata": {
    "scrolled": true
   },
   "outputs": [
    {
     "data": {
      "text/html": [
       "<div>\n",
       "<style scoped>\n",
       "    .dataframe tbody tr th:only-of-type {\n",
       "        vertical-align: middle;\n",
       "    }\n",
       "\n",
       "    .dataframe tbody tr th {\n",
       "        vertical-align: top;\n",
       "    }\n",
       "\n",
       "    .dataframe thead th {\n",
       "        text-align: right;\n",
       "    }\n",
       "</style>\n",
       "<table border=\"1\" class=\"dataframe\">\n",
       "  <thead>\n",
       "    <tr style=\"text-align: right;\">\n",
       "      <th></th>\n",
       "      <th>0</th>\n",
       "      <th>1</th>\n",
       "      <th>2</th>\n",
       "      <th>3</th>\n",
       "      <th>4</th>\n",
       "      <th>5</th>\n",
       "      <th>6</th>\n",
       "      <th>7</th>\n",
       "      <th>8</th>\n",
       "      <th>9</th>\n",
       "      <th>10</th>\n",
       "      <th>11</th>\n",
       "      <th>12</th>\n",
       "      <th>13</th>\n",
       "      <th>14</th>\n",
       "      <th>15</th>\n",
       "      <th>16</th>\n",
       "      <th>17</th>\n",
       "      <th>18</th>\n",
       "      <th>19</th>\n",
       "      <th>20</th>\n",
       "      <th>21</th>\n",
       "      <th>22</th>\n",
       "      <th>23</th>\n",
       "      <th>24</th>\n",
       "      <th>25</th>\n",
       "      <th>26</th>\n",
       "      <th>27</th>\n",
       "      <th>28</th>\n",
       "      <th>29</th>\n",
       "      <th>30</th>\n",
       "      <th>31</th>\n",
       "      <th>32</th>\n",
       "      <th>33</th>\n",
       "      <th>34</th>\n",
       "      <th>35</th>\n",
       "      <th>36</th>\n",
       "      <th>37</th>\n",
       "      <th>38</th>\n",
       "      <th>39</th>\n",
       "      <th>40</th>\n",
       "      <th>41</th>\n",
       "      <th>42</th>\n",
       "      <th>43</th>\n",
       "      <th>44</th>\n",
       "      <th>45</th>\n",
       "      <th>46</th>\n",
       "      <th>47</th>\n",
       "      <th>48</th>\n",
       "      <th>49</th>\n",
       "      <th>50</th>\n",
       "      <th>51</th>\n",
       "      <th>52</th>\n",
       "      <th>53</th>\n",
       "      <th>54</th>\n",
       "      <th>55</th>\n",
       "      <th>56</th>\n",
       "      <th>57</th>\n",
       "      <th>58</th>\n",
       "      <th>59</th>\n",
       "      <th>60</th>\n",
       "      <th>61</th>\n",
       "      <th>62</th>\n",
       "      <th>63</th>\n",
       "      <th>64</th>\n",
       "    </tr>\n",
       "  </thead>\n",
       "  <tbody>\n",
       "    <tr>\n",
       "      <th>0</th>\n",
       "      <td>0</td>\n",
       "      <td>0</td>\n",
       "      <td>5</td>\n",
       "      <td>13</td>\n",
       "      <td>9</td>\n",
       "      <td>1</td>\n",
       "      <td>0</td>\n",
       "      <td>0</td>\n",
       "      <td>0</td>\n",
       "      <td>0</td>\n",
       "      <td>13</td>\n",
       "      <td>15</td>\n",
       "      <td>10</td>\n",
       "      <td>15</td>\n",
       "      <td>5</td>\n",
       "      <td>0</td>\n",
       "      <td>0</td>\n",
       "      <td>3</td>\n",
       "      <td>15</td>\n",
       "      <td>2</td>\n",
       "      <td>0</td>\n",
       "      <td>11</td>\n",
       "      <td>8</td>\n",
       "      <td>0</td>\n",
       "      <td>0</td>\n",
       "      <td>4</td>\n",
       "      <td>12</td>\n",
       "      <td>0</td>\n",
       "      <td>0</td>\n",
       "      <td>8</td>\n",
       "      <td>8</td>\n",
       "      <td>0</td>\n",
       "      <td>0</td>\n",
       "      <td>5</td>\n",
       "      <td>8</td>\n",
       "      <td>0</td>\n",
       "      <td>0</td>\n",
       "      <td>9</td>\n",
       "      <td>8</td>\n",
       "      <td>0</td>\n",
       "      <td>0</td>\n",
       "      <td>4</td>\n",
       "      <td>11</td>\n",
       "      <td>0</td>\n",
       "      <td>1</td>\n",
       "      <td>12</td>\n",
       "      <td>7</td>\n",
       "      <td>0</td>\n",
       "      <td>0</td>\n",
       "      <td>2</td>\n",
       "      <td>14</td>\n",
       "      <td>5</td>\n",
       "      <td>10</td>\n",
       "      <td>12</td>\n",
       "      <td>0</td>\n",
       "      <td>0</td>\n",
       "      <td>0</td>\n",
       "      <td>0</td>\n",
       "      <td>6</td>\n",
       "      <td>13</td>\n",
       "      <td>10</td>\n",
       "      <td>0</td>\n",
       "      <td>0</td>\n",
       "      <td>0</td>\n",
       "      <td>0</td>\n",
       "    </tr>\n",
       "    <tr>\n",
       "      <th>1</th>\n",
       "      <td>0</td>\n",
       "      <td>0</td>\n",
       "      <td>0</td>\n",
       "      <td>12</td>\n",
       "      <td>13</td>\n",
       "      <td>5</td>\n",
       "      <td>0</td>\n",
       "      <td>0</td>\n",
       "      <td>0</td>\n",
       "      <td>0</td>\n",
       "      <td>0</td>\n",
       "      <td>11</td>\n",
       "      <td>16</td>\n",
       "      <td>9</td>\n",
       "      <td>0</td>\n",
       "      <td>0</td>\n",
       "      <td>0</td>\n",
       "      <td>0</td>\n",
       "      <td>3</td>\n",
       "      <td>15</td>\n",
       "      <td>16</td>\n",
       "      <td>6</td>\n",
       "      <td>0</td>\n",
       "      <td>0</td>\n",
       "      <td>0</td>\n",
       "      <td>7</td>\n",
       "      <td>15</td>\n",
       "      <td>16</td>\n",
       "      <td>16</td>\n",
       "      <td>2</td>\n",
       "      <td>0</td>\n",
       "      <td>0</td>\n",
       "      <td>0</td>\n",
       "      <td>0</td>\n",
       "      <td>1</td>\n",
       "      <td>16</td>\n",
       "      <td>16</td>\n",
       "      <td>3</td>\n",
       "      <td>0</td>\n",
       "      <td>0</td>\n",
       "      <td>0</td>\n",
       "      <td>0</td>\n",
       "      <td>1</td>\n",
       "      <td>16</td>\n",
       "      <td>16</td>\n",
       "      <td>6</td>\n",
       "      <td>0</td>\n",
       "      <td>0</td>\n",
       "      <td>0</td>\n",
       "      <td>0</td>\n",
       "      <td>1</td>\n",
       "      <td>16</td>\n",
       "      <td>16</td>\n",
       "      <td>6</td>\n",
       "      <td>0</td>\n",
       "      <td>0</td>\n",
       "      <td>0</td>\n",
       "      <td>0</td>\n",
       "      <td>0</td>\n",
       "      <td>11</td>\n",
       "      <td>16</td>\n",
       "      <td>10</td>\n",
       "      <td>0</td>\n",
       "      <td>0</td>\n",
       "      <td>1</td>\n",
       "    </tr>\n",
       "    <tr>\n",
       "      <th>2</th>\n",
       "      <td>0</td>\n",
       "      <td>0</td>\n",
       "      <td>0</td>\n",
       "      <td>4</td>\n",
       "      <td>15</td>\n",
       "      <td>12</td>\n",
       "      <td>0</td>\n",
       "      <td>0</td>\n",
       "      <td>0</td>\n",
       "      <td>0</td>\n",
       "      <td>3</td>\n",
       "      <td>16</td>\n",
       "      <td>15</td>\n",
       "      <td>14</td>\n",
       "      <td>0</td>\n",
       "      <td>0</td>\n",
       "      <td>0</td>\n",
       "      <td>0</td>\n",
       "      <td>8</td>\n",
       "      <td>13</td>\n",
       "      <td>8</td>\n",
       "      <td>16</td>\n",
       "      <td>0</td>\n",
       "      <td>0</td>\n",
       "      <td>0</td>\n",
       "      <td>0</td>\n",
       "      <td>1</td>\n",
       "      <td>6</td>\n",
       "      <td>15</td>\n",
       "      <td>11</td>\n",
       "      <td>0</td>\n",
       "      <td>0</td>\n",
       "      <td>0</td>\n",
       "      <td>1</td>\n",
       "      <td>8</td>\n",
       "      <td>13</td>\n",
       "      <td>15</td>\n",
       "      <td>1</td>\n",
       "      <td>0</td>\n",
       "      <td>0</td>\n",
       "      <td>0</td>\n",
       "      <td>9</td>\n",
       "      <td>16</td>\n",
       "      <td>16</td>\n",
       "      <td>5</td>\n",
       "      <td>0</td>\n",
       "      <td>0</td>\n",
       "      <td>0</td>\n",
       "      <td>0</td>\n",
       "      <td>3</td>\n",
       "      <td>13</td>\n",
       "      <td>16</td>\n",
       "      <td>16</td>\n",
       "      <td>11</td>\n",
       "      <td>5</td>\n",
       "      <td>0</td>\n",
       "      <td>0</td>\n",
       "      <td>0</td>\n",
       "      <td>0</td>\n",
       "      <td>3</td>\n",
       "      <td>11</td>\n",
       "      <td>16</td>\n",
       "      <td>9</td>\n",
       "      <td>0</td>\n",
       "      <td>2</td>\n",
       "    </tr>\n",
       "    <tr>\n",
       "      <th>3</th>\n",
       "      <td>0</td>\n",
       "      <td>0</td>\n",
       "      <td>7</td>\n",
       "      <td>15</td>\n",
       "      <td>13</td>\n",
       "      <td>1</td>\n",
       "      <td>0</td>\n",
       "      <td>0</td>\n",
       "      <td>0</td>\n",
       "      <td>8</td>\n",
       "      <td>13</td>\n",
       "      <td>6</td>\n",
       "      <td>15</td>\n",
       "      <td>4</td>\n",
       "      <td>0</td>\n",
       "      <td>0</td>\n",
       "      <td>0</td>\n",
       "      <td>2</td>\n",
       "      <td>1</td>\n",
       "      <td>13</td>\n",
       "      <td>13</td>\n",
       "      <td>0</td>\n",
       "      <td>0</td>\n",
       "      <td>0</td>\n",
       "      <td>0</td>\n",
       "      <td>0</td>\n",
       "      <td>2</td>\n",
       "      <td>15</td>\n",
       "      <td>11</td>\n",
       "      <td>1</td>\n",
       "      <td>0</td>\n",
       "      <td>0</td>\n",
       "      <td>0</td>\n",
       "      <td>0</td>\n",
       "      <td>0</td>\n",
       "      <td>1</td>\n",
       "      <td>12</td>\n",
       "      <td>12</td>\n",
       "      <td>1</td>\n",
       "      <td>0</td>\n",
       "      <td>0</td>\n",
       "      <td>0</td>\n",
       "      <td>0</td>\n",
       "      <td>0</td>\n",
       "      <td>1</td>\n",
       "      <td>10</td>\n",
       "      <td>8</td>\n",
       "      <td>0</td>\n",
       "      <td>0</td>\n",
       "      <td>0</td>\n",
       "      <td>8</td>\n",
       "      <td>4</td>\n",
       "      <td>5</td>\n",
       "      <td>14</td>\n",
       "      <td>9</td>\n",
       "      <td>0</td>\n",
       "      <td>0</td>\n",
       "      <td>0</td>\n",
       "      <td>7</td>\n",
       "      <td>13</td>\n",
       "      <td>13</td>\n",
       "      <td>9</td>\n",
       "      <td>0</td>\n",
       "      <td>0</td>\n",
       "      <td>3</td>\n",
       "    </tr>\n",
       "    <tr>\n",
       "      <th>4</th>\n",
       "      <td>0</td>\n",
       "      <td>0</td>\n",
       "      <td>0</td>\n",
       "      <td>1</td>\n",
       "      <td>11</td>\n",
       "      <td>0</td>\n",
       "      <td>0</td>\n",
       "      <td>0</td>\n",
       "      <td>0</td>\n",
       "      <td>0</td>\n",
       "      <td>0</td>\n",
       "      <td>7</td>\n",
       "      <td>8</td>\n",
       "      <td>0</td>\n",
       "      <td>0</td>\n",
       "      <td>0</td>\n",
       "      <td>0</td>\n",
       "      <td>0</td>\n",
       "      <td>1</td>\n",
       "      <td>13</td>\n",
       "      <td>6</td>\n",
       "      <td>2</td>\n",
       "      <td>2</td>\n",
       "      <td>0</td>\n",
       "      <td>0</td>\n",
       "      <td>0</td>\n",
       "      <td>7</td>\n",
       "      <td>15</td>\n",
       "      <td>0</td>\n",
       "      <td>9</td>\n",
       "      <td>8</td>\n",
       "      <td>0</td>\n",
       "      <td>0</td>\n",
       "      <td>5</td>\n",
       "      <td>16</td>\n",
       "      <td>10</td>\n",
       "      <td>0</td>\n",
       "      <td>16</td>\n",
       "      <td>6</td>\n",
       "      <td>0</td>\n",
       "      <td>0</td>\n",
       "      <td>4</td>\n",
       "      <td>15</td>\n",
       "      <td>16</td>\n",
       "      <td>13</td>\n",
       "      <td>16</td>\n",
       "      <td>1</td>\n",
       "      <td>0</td>\n",
       "      <td>0</td>\n",
       "      <td>0</td>\n",
       "      <td>0</td>\n",
       "      <td>3</td>\n",
       "      <td>15</td>\n",
       "      <td>10</td>\n",
       "      <td>0</td>\n",
       "      <td>0</td>\n",
       "      <td>0</td>\n",
       "      <td>0</td>\n",
       "      <td>0</td>\n",
       "      <td>2</td>\n",
       "      <td>16</td>\n",
       "      <td>4</td>\n",
       "      <td>0</td>\n",
       "      <td>0</td>\n",
       "      <td>4</td>\n",
       "    </tr>\n",
       "    <tr>\n",
       "      <th>5</th>\n",
       "      <td>0</td>\n",
       "      <td>0</td>\n",
       "      <td>12</td>\n",
       "      <td>10</td>\n",
       "      <td>0</td>\n",
       "      <td>0</td>\n",
       "      <td>0</td>\n",
       "      <td>0</td>\n",
       "      <td>0</td>\n",
       "      <td>0</td>\n",
       "      <td>14</td>\n",
       "      <td>16</td>\n",
       "      <td>16</td>\n",
       "      <td>14</td>\n",
       "      <td>0</td>\n",
       "      <td>0</td>\n",
       "      <td>0</td>\n",
       "      <td>0</td>\n",
       "      <td>13</td>\n",
       "      <td>16</td>\n",
       "      <td>15</td>\n",
       "      <td>10</td>\n",
       "      <td>1</td>\n",
       "      <td>0</td>\n",
       "      <td>0</td>\n",
       "      <td>0</td>\n",
       "      <td>11</td>\n",
       "      <td>16</td>\n",
       "      <td>16</td>\n",
       "      <td>7</td>\n",
       "      <td>0</td>\n",
       "      <td>0</td>\n",
       "      <td>0</td>\n",
       "      <td>0</td>\n",
       "      <td>0</td>\n",
       "      <td>4</td>\n",
       "      <td>7</td>\n",
       "      <td>16</td>\n",
       "      <td>7</td>\n",
       "      <td>0</td>\n",
       "      <td>0</td>\n",
       "      <td>0</td>\n",
       "      <td>0</td>\n",
       "      <td>0</td>\n",
       "      <td>4</td>\n",
       "      <td>16</td>\n",
       "      <td>9</td>\n",
       "      <td>0</td>\n",
       "      <td>0</td>\n",
       "      <td>0</td>\n",
       "      <td>5</td>\n",
       "      <td>4</td>\n",
       "      <td>12</td>\n",
       "      <td>16</td>\n",
       "      <td>4</td>\n",
       "      <td>0</td>\n",
       "      <td>0</td>\n",
       "      <td>0</td>\n",
       "      <td>9</td>\n",
       "      <td>16</td>\n",
       "      <td>16</td>\n",
       "      <td>10</td>\n",
       "      <td>0</td>\n",
       "      <td>0</td>\n",
       "      <td>5</td>\n",
       "    </tr>\n",
       "    <tr>\n",
       "      <th>6</th>\n",
       "      <td>0</td>\n",
       "      <td>0</td>\n",
       "      <td>0</td>\n",
       "      <td>12</td>\n",
       "      <td>13</td>\n",
       "      <td>0</td>\n",
       "      <td>0</td>\n",
       "      <td>0</td>\n",
       "      <td>0</td>\n",
       "      <td>0</td>\n",
       "      <td>5</td>\n",
       "      <td>16</td>\n",
       "      <td>8</td>\n",
       "      <td>0</td>\n",
       "      <td>0</td>\n",
       "      <td>0</td>\n",
       "      <td>0</td>\n",
       "      <td>0</td>\n",
       "      <td>13</td>\n",
       "      <td>16</td>\n",
       "      <td>3</td>\n",
       "      <td>0</td>\n",
       "      <td>0</td>\n",
       "      <td>0</td>\n",
       "      <td>0</td>\n",
       "      <td>0</td>\n",
       "      <td>14</td>\n",
       "      <td>13</td>\n",
       "      <td>0</td>\n",
       "      <td>0</td>\n",
       "      <td>0</td>\n",
       "      <td>0</td>\n",
       "      <td>0</td>\n",
       "      <td>0</td>\n",
       "      <td>15</td>\n",
       "      <td>12</td>\n",
       "      <td>7</td>\n",
       "      <td>2</td>\n",
       "      <td>0</td>\n",
       "      <td>0</td>\n",
       "      <td>0</td>\n",
       "      <td>0</td>\n",
       "      <td>13</td>\n",
       "      <td>16</td>\n",
       "      <td>13</td>\n",
       "      <td>16</td>\n",
       "      <td>3</td>\n",
       "      <td>0</td>\n",
       "      <td>0</td>\n",
       "      <td>0</td>\n",
       "      <td>7</td>\n",
       "      <td>16</td>\n",
       "      <td>11</td>\n",
       "      <td>15</td>\n",
       "      <td>8</td>\n",
       "      <td>0</td>\n",
       "      <td>0</td>\n",
       "      <td>0</td>\n",
       "      <td>1</td>\n",
       "      <td>9</td>\n",
       "      <td>15</td>\n",
       "      <td>11</td>\n",
       "      <td>3</td>\n",
       "      <td>0</td>\n",
       "      <td>6</td>\n",
       "    </tr>\n",
       "    <tr>\n",
       "      <th>7</th>\n",
       "      <td>0</td>\n",
       "      <td>0</td>\n",
       "      <td>7</td>\n",
       "      <td>8</td>\n",
       "      <td>13</td>\n",
       "      <td>16</td>\n",
       "      <td>15</td>\n",
       "      <td>1</td>\n",
       "      <td>0</td>\n",
       "      <td>0</td>\n",
       "      <td>7</td>\n",
       "      <td>7</td>\n",
       "      <td>4</td>\n",
       "      <td>11</td>\n",
       "      <td>12</td>\n",
       "      <td>0</td>\n",
       "      <td>0</td>\n",
       "      <td>0</td>\n",
       "      <td>0</td>\n",
       "      <td>0</td>\n",
       "      <td>8</td>\n",
       "      <td>13</td>\n",
       "      <td>1</td>\n",
       "      <td>0</td>\n",
       "      <td>0</td>\n",
       "      <td>4</td>\n",
       "      <td>8</td>\n",
       "      <td>8</td>\n",
       "      <td>15</td>\n",
       "      <td>15</td>\n",
       "      <td>6</td>\n",
       "      <td>0</td>\n",
       "      <td>0</td>\n",
       "      <td>2</td>\n",
       "      <td>11</td>\n",
       "      <td>15</td>\n",
       "      <td>15</td>\n",
       "      <td>4</td>\n",
       "      <td>0</td>\n",
       "      <td>0</td>\n",
       "      <td>0</td>\n",
       "      <td>0</td>\n",
       "      <td>0</td>\n",
       "      <td>16</td>\n",
       "      <td>5</td>\n",
       "      <td>0</td>\n",
       "      <td>0</td>\n",
       "      <td>0</td>\n",
       "      <td>0</td>\n",
       "      <td>0</td>\n",
       "      <td>9</td>\n",
       "      <td>15</td>\n",
       "      <td>1</td>\n",
       "      <td>0</td>\n",
       "      <td>0</td>\n",
       "      <td>0</td>\n",
       "      <td>0</td>\n",
       "      <td>0</td>\n",
       "      <td>13</td>\n",
       "      <td>5</td>\n",
       "      <td>0</td>\n",
       "      <td>0</td>\n",
       "      <td>0</td>\n",
       "      <td>0</td>\n",
       "      <td>7</td>\n",
       "    </tr>\n",
       "    <tr>\n",
       "      <th>8</th>\n",
       "      <td>0</td>\n",
       "      <td>0</td>\n",
       "      <td>9</td>\n",
       "      <td>14</td>\n",
       "      <td>8</td>\n",
       "      <td>1</td>\n",
       "      <td>0</td>\n",
       "      <td>0</td>\n",
       "      <td>0</td>\n",
       "      <td>0</td>\n",
       "      <td>12</td>\n",
       "      <td>14</td>\n",
       "      <td>14</td>\n",
       "      <td>12</td>\n",
       "      <td>0</td>\n",
       "      <td>0</td>\n",
       "      <td>0</td>\n",
       "      <td>0</td>\n",
       "      <td>9</td>\n",
       "      <td>10</td>\n",
       "      <td>0</td>\n",
       "      <td>15</td>\n",
       "      <td>4</td>\n",
       "      <td>0</td>\n",
       "      <td>0</td>\n",
       "      <td>0</td>\n",
       "      <td>3</td>\n",
       "      <td>16</td>\n",
       "      <td>12</td>\n",
       "      <td>14</td>\n",
       "      <td>2</td>\n",
       "      <td>0</td>\n",
       "      <td>0</td>\n",
       "      <td>0</td>\n",
       "      <td>4</td>\n",
       "      <td>16</td>\n",
       "      <td>16</td>\n",
       "      <td>2</td>\n",
       "      <td>0</td>\n",
       "      <td>0</td>\n",
       "      <td>0</td>\n",
       "      <td>3</td>\n",
       "      <td>16</td>\n",
       "      <td>8</td>\n",
       "      <td>10</td>\n",
       "      <td>13</td>\n",
       "      <td>2</td>\n",
       "      <td>0</td>\n",
       "      <td>0</td>\n",
       "      <td>1</td>\n",
       "      <td>15</td>\n",
       "      <td>1</td>\n",
       "      <td>3</td>\n",
       "      <td>16</td>\n",
       "      <td>8</td>\n",
       "      <td>0</td>\n",
       "      <td>0</td>\n",
       "      <td>0</td>\n",
       "      <td>11</td>\n",
       "      <td>16</td>\n",
       "      <td>15</td>\n",
       "      <td>11</td>\n",
       "      <td>1</td>\n",
       "      <td>0</td>\n",
       "      <td>8</td>\n",
       "    </tr>\n",
       "    <tr>\n",
       "      <th>9</th>\n",
       "      <td>0</td>\n",
       "      <td>0</td>\n",
       "      <td>11</td>\n",
       "      <td>12</td>\n",
       "      <td>0</td>\n",
       "      <td>0</td>\n",
       "      <td>0</td>\n",
       "      <td>0</td>\n",
       "      <td>0</td>\n",
       "      <td>2</td>\n",
       "      <td>16</td>\n",
       "      <td>16</td>\n",
       "      <td>16</td>\n",
       "      <td>13</td>\n",
       "      <td>0</td>\n",
       "      <td>0</td>\n",
       "      <td>0</td>\n",
       "      <td>3</td>\n",
       "      <td>16</td>\n",
       "      <td>12</td>\n",
       "      <td>10</td>\n",
       "      <td>14</td>\n",
       "      <td>0</td>\n",
       "      <td>0</td>\n",
       "      <td>0</td>\n",
       "      <td>1</td>\n",
       "      <td>16</td>\n",
       "      <td>1</td>\n",
       "      <td>12</td>\n",
       "      <td>15</td>\n",
       "      <td>0</td>\n",
       "      <td>0</td>\n",
       "      <td>0</td>\n",
       "      <td>0</td>\n",
       "      <td>13</td>\n",
       "      <td>16</td>\n",
       "      <td>9</td>\n",
       "      <td>15</td>\n",
       "      <td>2</td>\n",
       "      <td>0</td>\n",
       "      <td>0</td>\n",
       "      <td>0</td>\n",
       "      <td>0</td>\n",
       "      <td>3</td>\n",
       "      <td>0</td>\n",
       "      <td>9</td>\n",
       "      <td>11</td>\n",
       "      <td>0</td>\n",
       "      <td>0</td>\n",
       "      <td>0</td>\n",
       "      <td>0</td>\n",
       "      <td>0</td>\n",
       "      <td>9</td>\n",
       "      <td>15</td>\n",
       "      <td>4</td>\n",
       "      <td>0</td>\n",
       "      <td>0</td>\n",
       "      <td>0</td>\n",
       "      <td>9</td>\n",
       "      <td>12</td>\n",
       "      <td>13</td>\n",
       "      <td>3</td>\n",
       "      <td>0</td>\n",
       "      <td>0</td>\n",
       "      <td>9</td>\n",
       "    </tr>\n",
       "  </tbody>\n",
       "</table>\n",
       "</div>"
      ],
      "text/plain": [
       "   0   1   2   3   4   5   6   7   8   9   10  11  12  13  14  15  16  17  18  \\\n",
       "0   0   0   5  13   9   1   0   0   0   0  13  15  10  15   5   0   0   3  15   \n",
       "1   0   0   0  12  13   5   0   0   0   0   0  11  16   9   0   0   0   0   3   \n",
       "2   0   0   0   4  15  12   0   0   0   0   3  16  15  14   0   0   0   0   8   \n",
       "3   0   0   7  15  13   1   0   0   0   8  13   6  15   4   0   0   0   2   1   \n",
       "4   0   0   0   1  11   0   0   0   0   0   0   7   8   0   0   0   0   0   1   \n",
       "5   0   0  12  10   0   0   0   0   0   0  14  16  16  14   0   0   0   0  13   \n",
       "6   0   0   0  12  13   0   0   0   0   0   5  16   8   0   0   0   0   0  13   \n",
       "7   0   0   7   8  13  16  15   1   0   0   7   7   4  11  12   0   0   0   0   \n",
       "8   0   0   9  14   8   1   0   0   0   0  12  14  14  12   0   0   0   0   9   \n",
       "9   0   0  11  12   0   0   0   0   0   2  16  16  16  13   0   0   0   3  16   \n",
       "\n",
       "   19  20  21  22  23  24  25  26  27  28  29  30  31  32  33  34  35  36  37  \\\n",
       "0   2   0  11   8   0   0   4  12   0   0   8   8   0   0   5   8   0   0   9   \n",
       "1  15  16   6   0   0   0   7  15  16  16   2   0   0   0   0   1  16  16   3   \n",
       "2  13   8  16   0   0   0   0   1   6  15  11   0   0   0   1   8  13  15   1   \n",
       "3  13  13   0   0   0   0   0   2  15  11   1   0   0   0   0   0   1  12  12   \n",
       "4  13   6   2   2   0   0   0   7  15   0   9   8   0   0   5  16  10   0  16   \n",
       "5  16  15  10   1   0   0   0  11  16  16   7   0   0   0   0   0   4   7  16   \n",
       "6  16   3   0   0   0   0   0  14  13   0   0   0   0   0   0  15  12   7   2   \n",
       "7   0   8  13   1   0   0   4   8   8  15  15   6   0   0   2  11  15  15   4   \n",
       "8  10   0  15   4   0   0   0   3  16  12  14   2   0   0   0   4  16  16   2   \n",
       "9  12  10  14   0   0   0   1  16   1  12  15   0   0   0   0  13  16   9  15   \n",
       "\n",
       "   38  39  40  41  42  43  44  45  46  47  48  49  50  51  52  53  54  55  56  \\\n",
       "0   8   0   0   4  11   0   1  12   7   0   0   2  14   5  10  12   0   0   0   \n",
       "1   0   0   0   0   1  16  16   6   0   0   0   0   1  16  16   6   0   0   0   \n",
       "2   0   0   0   9  16  16   5   0   0   0   0   3  13  16  16  11   5   0   0   \n",
       "3   1   0   0   0   0   0   1  10   8   0   0   0   8   4   5  14   9   0   0   \n",
       "4   6   0   0   4  15  16  13  16   1   0   0   0   0   3  15  10   0   0   0   \n",
       "5   7   0   0   0   0   0   4  16   9   0   0   0   5   4  12  16   4   0   0   \n",
       "6   0   0   0   0  13  16  13  16   3   0   0   0   7  16  11  15   8   0   0   \n",
       "7   0   0   0   0   0  16   5   0   0   0   0   0   9  15   1   0   0   0   0   \n",
       "8   0   0   0   3  16   8  10  13   2   0   0   1  15   1   3  16   8   0   0   \n",
       "9   2   0   0   0   0   3   0   9  11   0   0   0   0   0   9  15   4   0   0   \n",
       "\n",
       "   57  58  59  60  61  62  63  64  \n",
       "0   0   6  13  10   0   0   0   0  \n",
       "1   0   0  11  16  10   0   0   1  \n",
       "2   0   0   3  11  16   9   0   2  \n",
       "3   0   7  13  13   9   0   0   3  \n",
       "4   0   0   2  16   4   0   0   4  \n",
       "5   0   9  16  16  10   0   0   5  \n",
       "6   0   1   9  15  11   3   0   6  \n",
       "7   0  13   5   0   0   0   0   7  \n",
       "8   0  11  16  15  11   1   0   8  \n",
       "9   0   9  12  13   3   0   0   9  "
      ]
     },
     "metadata": {},
     "output_type": "display_data"
    }
   ],
   "source": [
    "# Reading data\n",
    "\n",
    "test = pd.read_csv('test.tes',sep=' ',delimiter=',',header = None)\n",
    "pd.set_option('display.max_columns', 100)\n",
    "display(test[0:10])\n"
   ]
  },
  {
   "cell_type": "code",
   "execution_count": 112,
   "metadata": {},
   "outputs": [],
   "source": [
    "# Separating the labels\n",
    "\n",
    "test_labels=test[64]"
   ]
  },
  {
   "cell_type": "code",
   "execution_count": 113,
   "metadata": {},
   "outputs": [],
   "source": [
    "# Taking the numpy value\n",
    "\n",
    "test_labels=test_labels.values"
   ]
  },
  {
   "cell_type": "code",
   "execution_count": 114,
   "metadata": {},
   "outputs": [],
   "source": [
    "# Dropping the labels from the original dataset\n",
    "\n",
    "test = test.drop([64],axis=1)"
   ]
  },
  {
   "cell_type": "markdown",
   "metadata": {},
   "source": [
    "Setting the mean=0 and variance =1"
   ]
  },
  {
   "cell_type": "code",
   "execution_count": 115,
   "metadata": {},
   "outputs": [],
   "source": [
    "from sklearn.preprocessing import StandardScaler\n",
    "\n",
    "testN=StandardScaler().fit_transform(test) # Normalizing each feature to mean = 0 and variance = 1"
   ]
  },
  {
   "cell_type": "markdown",
   "metadata": {},
   "source": [
    "Using the scikit library we are able to use the K-means function directly, let's initializate the K-means with: \n",
    "- Random initialization.\n",
    "- N_cluster = 10 clusters.\n",
    "- We will choose as n_init=1 the number of time the K-means algorithm will be run with different centroid seeds. The final result normally is the best output of n_init consecutive runs in terms of inertia.\n",
    "\n",
    "We'll apply 10 times the K-means clustering technique and analyse what happens"
   ]
  },
  {
   "cell_type": "code",
   "execution_count": 116,
   "metadata": {},
   "outputs": [
    {
     "name": "stdout",
     "output_type": "stream",
     "text": [
      "The Inertia value for the K-means 0 is:  69672.395565258\n",
      "The Inertia value for the K-means 1 is:  71479.03636845524\n",
      "The Inertia value for the K-means 2 is:  71471.16834364567\n",
      "The Inertia value for the K-means 3 is:  70958.56383190767\n",
      "The Inertia value for the K-means 4 is:  71887.78198781227\n",
      "The Inertia value for the K-means 5 is:  72300.99917721793\n",
      "The Inertia value for the K-means 6 is:  70787.0457688118\n",
      "The Inertia value for the K-means 7 is:  71826.62089422632\n",
      "The Inertia value for the K-means 8 is:  69527.95621365473\n",
      "The Inertia value for the K-means 9 is:  72017.43911137461\n",
      "####################################################################################\n",
      "The best K-means technique is the one that retains the lowest inertia, in our case, for iteration 8 with a Inertia of 69527.95621365473\n"
     ]
    }
   ],
   "source": [
    "Vector = [] # in Vector we'll append the K-means with different initializations\n",
    "Inertia = [] # in Inertia we'll append the inertia values for each one of the K-means that we applied\n",
    "Support = []\n",
    "Labels = []\n",
    "for k in range(10):\n",
    "    Kmeans=sklearn.cluster.KMeans(n_clusters=10,init='random',n_init=1).fit(testN) # Applying the K-means\n",
    "    Vector.append(Kmeans)\n",
    "    Inertia.append(Kmeans.inertia_)\n",
    "    Support.append(k)\n",
    "    Labels.append(Kmeans.labels_)\n",
    "    print('The Inertia value for the K-means',k,'is: ',Inertia[k])\n",
    "    \n",
    "print('####################################################################################')\n",
    "\n",
    "Inertia=np.array(Inertia)\n",
    "Labels =np.array(Labels)\n",
    "idx_min= np.where(Inertia == Inertia.min())\n",
    "print('The best K-means technique is the one that retains the lowest inertia, in our case, for iteration',int(idx_min[0]),'with a Inertia of',Inertia.min())\n",
    "\n",
    "Best_Result=Vector[int(idx_min[0])] # Here, we keep the best result from the 10 K-means that we just applied\n",
    "label_BR = Labels[int(idx_min[0])] # Here we keep the label for the best result"
   ]
  },
  {
   "cell_type": "code",
   "execution_count": 117,
   "metadata": {},
   "outputs": [
    {
     "data": {
      "image/png": "[encoded data removed]",
      "text/plain": [
       "<Figure size 432x288 with 1 Axes>"
      ]
     },
     "metadata": {
      "needs_background": "light"
     },
     "output_type": "display_data"
    }
   ],
   "source": [
    "plt.plot(Support,Inertia,'ro-')\n",
    "plt.xlabel('Different K-means')\n",
    "plt.ylabel('Inertia')\n",
    "plt.show()"
   ]
  },
  {
   "cell_type": "markdown",
   "metadata": {},
   "source": [
    "As we can see above by the graphic and the numbers of inertia is that each time that we initializate the same algorithm randomly a different inertia value is obtained, it means that it depends on the initial value as expected. In the following part we'll calculate the score of these same K-means and search for a correlation between Inertia and Score."
   ]
  },
  {
   "cell_type": "markdown",
   "metadata": {},
   "source": [
    "#################################################################################################################"
   ]
  },
  {
   "cell_type": "markdown",
   "metadata": {},
   "source": [
    "Now, we'll consider the labels to verify the accuracy of this clustering method. As score, we'll take the fraction of pairs of samples that are correctly partitioned: two samples are considered correctly partitioned if they are in the same cluster and\n",
    "have same the label or if they are in different clusters and have different labels."
   ]
  },
  {
   "cell_type": "code",
   "execution_count": 118,
   "metadata": {},
   "outputs": [],
   "source": [
    "def Score(test_labels,model_labels):\n",
    "    \n",
    "    '''the fraction of pairs of samples that are correctly partitioned: \n",
    "    two samples are considered correctly partitioned if they are in the same cluster and \n",
    "    have same the label or if they are in different clusters and have different labels.\n",
    "    \n",
    "    to return the score:\n",
    "    - multiplied by 2 because of the 2 samples that we compare each time\n",
    "    - multiplied by 100 to get a percentage value\n",
    "    '''\n",
    "    \n",
    "    tot = len(test_labels)\n",
    "    accum=0\n",
    "    \n",
    "    for tei in range(0,tot):\n",
    "    \n",
    "        for toi in range(tei+1,tot):\n",
    "        \n",
    "            if test_labels[tei] == test_labels[toi] and model_labels[tei]==model_labels[toi]:\n",
    "                accum=accum+1\n",
    "            if test_labels[tei] != test_labels[toi] and model_labels[tei]!=model_labels[toi]:\n",
    "                accum=accum+1\n",
    "                \n",
    "    return(2*100*accum/(tot*(tot-1)))\n"
   ]
  },
  {
   "cell_type": "code",
   "execution_count": 119,
   "metadata": {},
   "outputs": [
    {
     "name": "stdout",
     "output_type": "stream",
     "text": [
      "The Score for the Best Clustering Result (minimum inertia) that we obtained is 89.15186533358617 %\n"
     ]
    }
   ],
   "source": [
    "print('The Score for the Best Clustering Result (minimum inertia) that we obtained is' ,Score(test_labels,label_BR),'%')"
   ]
  },
  {
   "cell_type": "markdown",
   "metadata": {},
   "source": [
    "Let's now calculate for ALL of the 10 K-means clusterings that we applied."
   ]
  },
  {
   "cell_type": "code",
   "execution_count": 120,
   "metadata": {},
   "outputs": [
    {
     "name": "stdout",
     "output_type": "stream",
     "text": [
      "The Score value for the K-means 0 is:  91.36131364697162\n",
      "The Score value for the K-means 1 is:  89.33820658781711\n",
      "The Score value for the K-means 2 is:  88.60442980319836\n",
      "The Score value for the K-means 3 is:  89.33585175986208\n",
      "The Score value for the K-means 4 is:  90.91476390370984\n",
      "The Score value for the K-means 5 is:  89.68851823070621\n",
      "The Score value for the K-means 6 is:  90.83693064288043\n",
      "The Score value for the K-means 7 is:  89.73939490836621\n",
      "The Score value for the K-means 8 is:  89.15186533358617\n",
      "The Score value for the K-means 9 is:  92.1985789232983\n"
     ]
    }
   ],
   "source": [
    "Scores=[]\n",
    "for k in range(10):\n",
    "    Scores.append(Score(test_labels,Labels[k]))\n",
    "    print('The Score value for the K-means',k,'is: ',Scores[k])"
   ]
  },
  {
   "cell_type": "code",
   "execution_count": 121,
   "metadata": {},
   "outputs": [
    {
     "data": {
      "image/png": "[encoded data removed]",
      "text/plain": [
       "<Figure size 432x288 with 1 Axes>"
      ]
     },
     "metadata": {
      "needs_background": "light"
     },
     "output_type": "display_data"
    }
   ],
   "source": [
    "plt.plot(Support,Scores,'ro-')\n",
    "plt.xlabel('Different K-means')\n",
    "plt.ylabel('Score')\n",
    "plt.show()"
   ]
  },
  {
   "cell_type": "markdown",
   "metadata": {},
   "source": [
    "As we can see, the score also depends on the initial value that we used for the K-means, however, we could not find a direct correlation between the minimum of inertia (best cluster) and the bigger score."
   ]
  },
  {
   "cell_type": "markdown",
   "metadata": {},
   "source": [
    "#################################################################################################################"
   ]
  },
  {
   "cell_type": "markdown",
   "metadata": {},
   "source": [
    "\n",
    "\n",
    "We can also ask ourselves of what is going to happen with different values of K, can we infer that the digits fall into K = 10 categories if we do not have this informationbefore-hand?\n",
    "\n",
    "- By varying the number of clusters that we are willing to use from 1 to 30 we are going to analyse this\n",
    "- Here we set n_init=50 because we want a good initialization value for a given K-means applied, we are no more interested in veryifing that things depends on the initial value."
   ]
  },
  {
   "cell_type": "code",
   "execution_count": 19,
   "metadata": {},
   "outputs": [],
   "source": [
    "Vector1 = [] # in Vector we'll append the K-means with different initializations\n",
    "Inertia1 = [] # in Inertia we'll append the inertia values for each one of the K-means that we applied\n",
    "Support1 = []\n",
    "for i in range(30):\n",
    "    Kmeans1=sklearn.cluster.KMeans(n_clusters=i+1,init='random',n_init=100).fit(testN)\n",
    "    Vector1.append(Kmeans1)\n",
    "    Inertia1.append(Kmeans1.inertia_)\n",
    "    Support1.append(i)\n",
    "    "
   ]
  },
  {
   "cell_type": "code",
   "execution_count": 18,
   "metadata": {},
   "outputs": [
    {
     "data": {
      "image/png": "[encoded data removed]",
      "text/plain": [
       "<Figure size 864x576 with 1 Axes>"
      ]
     },
     "metadata": {
      "needs_background": "light"
     },
     "output_type": "display_data"
    }
   ],
   "source": [
    "plt.figure(figsize=(12,8))\n",
    "plt.plot(Support1,Inertia1,'bx-')\n",
    "plt.xlabel('Different number of clusters K-means')\n",
    "plt.ylabel('Inertia')\n",
    "plt.title('The Elbow method of detecting the ideal number of clusters')\n",
    "plt.show()"
   ]
  },
  {
   "cell_type": "markdown",
   "metadata": {},
   "source": [
    "Normally, to determine the best number of clusters we have to select the value of k at the point after which the inertia start decreasing in a linear scale. However, in this case it is not natural that we decide as 10 for the ideal number of clusters. Visually, the linear fashion is mostly initializated after 12/13 clusters and not after 10 clusters. We can conclude that it may be difficult to determine the number of clusters if we do not have this value premeditated."
   ]
  },
  {
   "cell_type": "markdown",
   "metadata": {},
   "source": [
    "# B. Hierarchical clustering"
   ]
  },
  {
   "cell_type": "markdown",
   "metadata": {},
   "source": [
    "Hierarchical clustering is another method of grouping data into cluster but this time we ARE NOT dependent on the initial choice of parameters. We are going to use the $\\textbf{Agglomerative}$ approach starting from each data point being a cluster and merging clusters iteratively (also called bottom-up approach). There are some characteristic linkage forms that differs by its metrics, in other other, how clusters are grouped to each other:\n",
    "\n",
    "- Average Linkage: $\\frac{1}{\\mid C_{1} \\mid \\mid C_{2} \\mid}\\sum_{a \\in C_{1}} \\sum_{b \\in C_{2}}d_{ab}$.\n",
    "- Ward Linkage: Ward's minimum variance criterion $\\textbf{minimizes}$ the total within-cluster variance.\n",
    "- Complete Linkage: $ max(d_{ab} ;  a \\in C_{1},b \\in C_{2})$\n",
    "- Single Linkage: $ min(d_{ab} ;  a \\in C_{1},b \\in C_{2})$\n",
    "\n"
   ]
  },
  {
   "cell_type": "markdown",
   "metadata": {},
   "source": [
    "The first thing to do is to separate the data as demanded by taking at random 25 samples labeled as 0, 25 labeled as 1 and 25 labeled as 2."
   ]
  },
  {
   "cell_type": "code",
   "execution_count": 124,
   "metadata": {},
   "outputs": [
    {
     "data": {
      "text/plain": [
       "(3, 25, 64)"
      ]
     },
     "metadata": {},
     "output_type": "display_data"
    },
    {
     "data": {
      "text/plain": [
       "(75, 64)"
      ]
     },
     "metadata": {},
     "output_type": "display_data"
    }
   ],
   "source": [
    "\n",
    "total_samples = 25\n",
    "total_digits = 3\n",
    "stocking = np.zeros((total_digits,total_samples,64))\n",
    "\n",
    "for k in range(total_digits):\n",
    "    index = np.random.choice(np.where(test_labels == k)[0], size=total_samples, replace=False)\n",
    "    \n",
    "    stocking[k]=testN[index]        \n",
    "    \n",
    "# Size before reshaping\n",
    "\n",
    "display(stocking.shape)\n",
    "\n",
    "# We need to reshape this stocking matrix to a n x n matrix, only then we will be able to use the dendograms of scikit lib\n",
    "\n",
    "stocking_new = np.reshape(stocking,(total_samples*total_digits,64))\n",
    "\n",
    "# Size after reshaping\n",
    "display(stocking_new.shape)\n",
    "\n",
    "# Creating a matrix with the labels separetely\n",
    "label_0 = np.full((1, total_samples), 0)\n",
    "label_1 = np.full((1, total_samples), 1)\n",
    "label_2 = np.full((1, total_samples), 2)\n",
    "label=np.concatenate((label_0, label_1), axis=None)\n",
    "label=np.concatenate((label,label_2),axis=None)\n",
    "\n"
   ]
  },
  {
   "cell_type": "markdown",
   "metadata": {},
   "source": [
    "$\\textbf{Ward Linkage}$"
   ]
  },
  {
   "cell_type": "code",
   "execution_count": 177,
   "metadata": {},
   "outputs": [],
   "source": [
    "ward = AgglomerativeClustering(n_clusters = 3,linkage = 'ward',distance_threshold=None).fit(stocking_new)"
   ]
  },
  {
   "cell_type": "markdown",
   "metadata": {},
   "source": [
    "For this clustering method we'll try to verify visually before using dendograms. Let's take a look below:"
   ]
  },
  {
   "cell_type": "code",
   "execution_count": 152,
   "metadata": {},
   "outputs": [
    {
     "name": "stdout",
     "output_type": "stream",
     "text": [
      "The predicted cluster is:\n",
      "[1 1 1 1 1 1 1 1 1 1 1 1 1 1 1 1 1 1 1 1 1 1 1 1 1 2 2 2 2 2 2 2 0 2 0 2 2\n",
      " 2 2 0 0 2 2 0 2 2 2 2 2 2 2 2 0 0 0 0 0 0 0 0 0 0 0 0 0 0 0 0 0 0 0 2 0 2\n",
      " 0]\n",
      "The real labels are:\n",
      "[0 0 0 0 0 0 0 0 0 0 0 0 0 0 0 0 0 0 0 0 0 0 0 0 0 1 1 1 1 1 1 1 1 1 1 1 1\n",
      " 1 1 1 1 1 1 1 1 1 1 1 1 1 2 2 2 2 2 2 2 2 2 2 2 2 2 2 2 2 2 2 2 2 2 2 2 2\n",
      " 2]\n"
     ]
    }
   ],
   "source": [
    "print('The predicted cluster is:')\n",
    "print(ward.labels_)\n",
    "print('The real labels are:')\n",
    "print(label)"
   ]
  },
  {
   "cell_type": "markdown",
   "metadata": {},
   "source": [
    "As we may see above: (OBS: Be careful to DO NOT confuse label i with predicted cluster i)\n",
    "\n",
    "- The real labels that are $\\textbf{0}$ were correctly separated in the predicted cluster $\\textbf{1}$\n",
    "- The real labels that are $\\textbf{1}$ were separated in the predicted cluster $\\textbf{2}$, but it was often mistaken with the predicted cluster $\\textbf{0}$\n",
    "- The real labels that are $\\textbf{2}$ were separated in the predicted cluster $\\textbf{0}$, but it was often mistaken with the predicted cluster $\\textbf{2}$\n",
    "\n",
    "Maybe, it would be visible by applying the PCA method."
   ]
  },
  {
   "cell_type": "markdown",
   "metadata": {},
   "source": [
    "Let's observe the dendrogram"
   ]
  },
  {
   "cell_type": "code",
   "execution_count": 170,
   "metadata": {},
   "outputs": [
    {
     "data": {
      "image/png": "[encoded data removed]",
      "text/plain": [
       "<Figure size 1440x720 with 1 Axes>"
      ]
     },
     "metadata": {
      "needs_background": "light"
     },
     "output_type": "display_data"
    }
   ],
   "source": [
    "linkage_matrix = linkage(stocking_new, method='ward',metric=\"euclidean\")\n",
    "plt.figure(figsize=(20,10))\n",
    "dendrogram(linkage_matrix,labels=label,color_threshold=30)\n",
    "plt.ylabel('Euclidean distance')\n",
    "plt.xlabel('Label')\n",
    "plt.xticks(fontsize=16)\n",
    "plt.xticks(rotation=360, ha=\"right\")\n",
    "plt.show()"
   ]
  },
  {
   "cell_type": "markdown",
   "metadata": {},
   "source": [
    "As we already stated only by a visual description of the data, the dendrogram show that we have three clusters by the ward linkage, The label $\\textbf{0}$ is correctly separated from the other two labels."
   ]
  },
  {
   "cell_type": "markdown",
   "metadata": {},
   "source": [
    "$\\textbf{Average Linkage}$"
   ]
  },
  {
   "cell_type": "code",
   "execution_count": 175,
   "metadata": {},
   "outputs": [],
   "source": [
    "average = AgglomerativeClustering(n_clusters = 3,linkage = 'average',distance_threshold=None).fit(stocking_new)"
   ]
  },
  {
   "cell_type": "code",
   "execution_count": 180,
   "metadata": {},
   "outputs": [
    {
     "data": {
      "image/png": "[encoded data removed]",
      "text/plain": [
       "<Figure size 1440x720 with 1 Axes>"
      ]
     },
     "metadata": {
      "needs_background": "light"
     },
     "output_type": "display_data"
    }
   ],
   "source": [
    "linkage_matrix = linkage(stocking_new, method='average',metric=\"euclidean\")\n",
    "plt.figure(figsize=(20,10))\n",
    "dendrogram(linkage_matrix,labels=label)\n",
    "plt.ylabel('Euclidean distance')\n",
    "plt.xlabel('Label')\n",
    "plt.xticks(fontsize=16)\n",
    "plt.xticks(rotation=360, ha=\"right\")\n",
    "plt.show()"
   ]
  },
  {
   "cell_type": "markdown",
   "metadata": {},
   "source": [
    "Here, we applied the Average Linkage. This seems to mix all of the labels in the clustering, it does not seems very profitable of applying. One alternative would to apply a color threshold, the color threshold would help to fix the most important clusters."
   ]
  },
  {
   "cell_type": "markdown",
   "metadata": {},
   "source": [
    "$\\textbf{Complete Linkage}$"
   ]
  },
  {
   "cell_type": "code",
   "execution_count": 174,
   "metadata": {},
   "outputs": [],
   "source": [
    "complete = AgglomerativeClustering(n_clusters = 3,linkage = 'complete',distance_threshold=None).fit(stocking_new)"
   ]
  },
  {
   "cell_type": "code",
   "execution_count": 171,
   "metadata": {},
   "outputs": [
    {
     "data": {
      "image/png": "[encoded data removed]",
      "text/plain": [
       "<Figure size 1440x720 with 1 Axes>"
      ]
     },
     "metadata": {
      "needs_background": "light"
     },
     "output_type": "display_data"
    }
   ],
   "source": [
    "linkage_matrix = linkage(stocking_new, method='complete',metric=\"euclidean\")\n",
    "plt.figure(figsize=(20,10))\n",
    "dendrogram(linkage_matrix,labels=label)\n",
    "plt.ylabel('Euclidean D')\n",
    "plt.xlabel('Label')\n",
    "plt.xticks(fontsize=16)\n",
    "plt.xticks(rotation=360, ha=\"right\")\n",
    "plt.show()"
   ]
  },
  {
   "cell_type": "markdown",
   "metadata": {},
   "source": [
    "Here above for complete linkage, we have again the label $\\textbf{0}$ well separated in $\\textbf{red}$, but it appears that we have more than 3 clusters and in this case we did not set a color threshold."
   ]
  },
  {
   "cell_type": "markdown",
   "metadata": {},
   "source": [
    "$\\textbf{Single Linkage}$"
   ]
  },
  {
   "cell_type": "code",
   "execution_count": 176,
   "metadata": {},
   "outputs": [],
   "source": [
    "single = AgglomerativeClustering(n_clusters = 3,linkage = 'single',distance_threshold=None).fit(stocking_new)"
   ]
  },
  {
   "cell_type": "code",
   "execution_count": 168,
   "metadata": {},
   "outputs": [
    {
     "data": {
      "image/png": "[encoded data removed]",
      "text/plain": [
       "<Figure size 1440x720 with 1 Axes>"
      ]
     },
     "metadata": {
      "needs_background": "light"
     },
     "output_type": "display_data"
    }
   ],
   "source": [
    "linkage_matrix = linkage(stocking_new, method='single',metric=\"euclidean\")\n",
    "plt.figure(figsize=(20,10))\n",
    "dendrogram(linkage_matrix,labels=label)\n",
    "plt.ylabel('Euclidean D')\n",
    "plt.xlabel('Label')\n",
    "plt.xticks(fontsize=16)\n",
    "plt.xticks(rotation=360, ha=\"right\")\n",
    "plt.show()"
   ]
  },
  {
   "cell_type": "markdown",
   "metadata": {},
   "source": [
    "Such as bwefore, we have the label $\\textbf{0}$ well separated in $\\textbf{green}$, but it appears that we have more than 3 clusters and the labels $\\textbf{1 and 2}$ are mixed."
   ]
  },
  {
   "cell_type": "markdown",
   "metadata": {},
   "source": [
    "We can try to calculate the score using the function that we defined in the previous exercise for K-means clustering and plot this result."
   ]
  },
  {
   "cell_type": "code",
   "execution_count": 184,
   "metadata": {},
   "outputs": [
    {
     "data": {
      "image/png": "[encoded data removed]",
      "text/plain": [
       "<Figure size 864x576 with 1 Axes>"
      ]
     },
     "metadata": {
      "needs_background": "light"
     },
     "output_type": "display_data"
    }
   ],
   "source": [
    "sc = [Score(label,ward.labels_),Score(label,average.labels_),Score(label,complete.labels_),Score(label,single.labels_)]\n",
    "axis = ['Ward','Average','Complete','Single']\n",
    "plt.figure(figsize=(12,8))\n",
    "plt.plot(axis,sc,'ro-')\n",
    "plt.show()\n",
    "\n",
    "max_score=(np.array(sc).max())"
   ]
  },
  {
   "cell_type": "markdown",
   "metadata": {},
   "source": [
    "As a conclusion, we can say that, only the label $\\textbf{0}$ was well separated by most of linkage methods. Comparing the scores, the Ward Linkage was the better method with a score of $\\textbf{86.7%}$. It appears that, for hierarchical clustering, this dataset \"confuses\" the labels $\\textbf{1 and 2}$ and the K-means method in general presented a better score."
   ]
  }
 ],
 "metadata": {
  "kernelspec": {
   "display_name": "Python 3",
   "language": "python",
   "name": "python3"
  },
  "language_info": {
   "codemirror_mode": {
    "name": "ipython",
    "version": 3
   },
   "file_extension": ".py",
   "mimetype": "text/x-python",
   "name": "python",
   "nbconvert_exporter": "python",
   "pygments_lexer": "ipython3",
   "version": "3.7.6"
  }
 },
 "nbformat": 4,
 "nbformat_minor": 2
}
